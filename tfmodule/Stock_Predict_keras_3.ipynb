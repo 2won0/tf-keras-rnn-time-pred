{
 "cells": [
  {
   "cell_type": "markdown",
   "metadata": {},
   "source": [
    "# Stock Prediction by Keras\n",
    "\n",
    "- tf.keras 를 이용\n",
    "- pandas package 사용\n",
    "- RNN, LSTM cell 사용\n",
    "- S&P 500 DATA 사용"
   ]
  },
  {
   "cell_type": "code",
   "execution_count": 1,
   "metadata": {},
   "outputs": [
    {
     "name": "stderr",
     "output_type": "stream",
     "text": [
      "/Users/chjeong/.pyenv/versions/3.6.3/lib/python3.6/importlib/_bootstrap.py:219: RuntimeWarning: compiletime version 3.5 of module 'tensorflow.python.framework.fast_tensor_util' does not match runtime version 3.6\n",
      "  return f(*args, **kwds)\n"
     ]
    }
   ],
   "source": [
    "import numpy as np\n",
    "import pandas as pd\n",
    "import tensorflow as tf\n",
    "from sklearn.preprocessing import MinMaxScaler\n",
    "import matplotlib.pyplot as plt\n",
    "import urllib"
   ]
  },
  {
   "cell_type": "markdown",
   "metadata": {},
   "source": [
    "### Download S&P 500 Stock data and read"
   ]
  },
  {
   "cell_type": "code",
   "execution_count": 2,
   "metadata": {},
   "outputs": [],
   "source": [
    "# urllib.request.urlretrieve('https://github.com/CNuge/kaggle-code/raw/master/stock_data/all_stocks_5yr.csv'+'/?accessType=download', './data/all_stocks_5yr.csv')"
   ]
  },
  {
   "cell_type": "code",
   "execution_count": 46,
   "metadata": {},
   "outputs": [],
   "source": [
    "data = pd.read_csv('./data/all_stocks_5yr.csv')"
   ]
  },
  {
   "cell_type": "markdown",
   "metadata": {},
   "source": [
    "### Set data"
   ]
  },
  {
   "cell_type": "code",
   "execution_count": 47,
   "metadata": {},
   "outputs": [],
   "source": [
    "cl = data[data['Name']=='MMM']\n",
    "cl = cl[['close', 'low', 'high']].values"
   ]
  },
  {
   "cell_type": "code",
   "execution_count": 48,
   "metadata": {},
   "outputs": [],
   "source": [
    "def set_data(cl):\n",
    "    scl = MinMaxScaler()\n",
    "    cl = scl.fit_transform(cl)\n",
    "    return cl, scl"
   ]
  },
  {
   "cell_type": "code",
   "execution_count": 49,
   "metadata": {},
   "outputs": [
    {
     "ename": "TypeError",
     "evalue": "float() argument must be a string or a number, not 'builtin_function_or_method'",
     "output_type": "error",
     "traceback": [
      "\u001b[0;31m---------------------------------------------------------------------------\u001b[0m",
      "\u001b[0;31mTypeError\u001b[0m                                 Traceback (most recent call last)",
      "\u001b[0;32m<ipython-input-49-ab16431f75b3>\u001b[0m in \u001b[0;36m<module>\u001b[0;34m()\u001b[0m\n\u001b[0;32m----> 1\u001b[0;31m \u001b[0mcl\u001b[0m\u001b[0;34m,\u001b[0m \u001b[0mscl\u001b[0m \u001b[0;34m=\u001b[0m \u001b[0mset_data\u001b[0m\u001b[0;34m(\u001b[0m\u001b[0mcl\u001b[0m\u001b[0;34m)\u001b[0m\u001b[0;34m\u001b[0m\u001b[0m\n\u001b[0m",
      "\u001b[0;32m<ipython-input-48-a1227d17d3a6>\u001b[0m in \u001b[0;36mset_data\u001b[0;34m(cl)\u001b[0m\n\u001b[1;32m      4\u001b[0m     \u001b[0mtemp\u001b[0m \u001b[0;34m=\u001b[0m \u001b[0mcl\u001b[0m\u001b[0;34m[\u001b[0m\u001b[0;36m0\u001b[0m\u001b[0;34m]\u001b[0m\u001b[0;34m.\u001b[0m\u001b[0mcopy\u001b[0m\u001b[0;34m\u001b[0m\u001b[0m\n\u001b[1;32m      5\u001b[0m     \u001b[0mcl\u001b[0m \u001b[0;34m=\u001b[0m \u001b[0mscl\u001b[0m\u001b[0;34m.\u001b[0m\u001b[0mfit_transform\u001b[0m\u001b[0;34m(\u001b[0m\u001b[0mcl\u001b[0m\u001b[0;34m)\u001b[0m\u001b[0;34m\u001b[0m\u001b[0m\n\u001b[0;32m----> 6\u001b[0;31m     \u001b[0m_scl\u001b[0m \u001b[0;34m=\u001b[0m \u001b[0m_scl\u001b[0m\u001b[0;34m.\u001b[0m\u001b[0mfit_transform\u001b[0m\u001b[0;34m(\u001b[0m\u001b[0mtemp\u001b[0m\u001b[0;34m)\u001b[0m\u001b[0;34m\u001b[0m\u001b[0m\n\u001b[0m\u001b[1;32m      7\u001b[0m     \u001b[0;32mreturn\u001b[0m \u001b[0mcl\u001b[0m\u001b[0;34m,\u001b[0m \u001b[0m_scl\u001b[0m\u001b[0;34m\u001b[0m\u001b[0m\n",
      "\u001b[0;32m~/.pyenv/versions/3.6.3/envs/tensorflow/lib/python3.6/site-packages/sklearn/base.py\u001b[0m in \u001b[0;36mfit_transform\u001b[0;34m(self, X, y, **fit_params)\u001b[0m\n\u001b[1;32m    460\u001b[0m         \u001b[0;32mif\u001b[0m \u001b[0my\u001b[0m \u001b[0;32mis\u001b[0m \u001b[0;32mNone\u001b[0m\u001b[0;34m:\u001b[0m\u001b[0;34m\u001b[0m\u001b[0m\n\u001b[1;32m    461\u001b[0m             \u001b[0;31m# fit method of arity 1 (unsupervised transformation)\u001b[0m\u001b[0;34m\u001b[0m\u001b[0;34m\u001b[0m\u001b[0m\n\u001b[0;32m--> 462\u001b[0;31m             \u001b[0;32mreturn\u001b[0m \u001b[0mself\u001b[0m\u001b[0;34m.\u001b[0m\u001b[0mfit\u001b[0m\u001b[0;34m(\u001b[0m\u001b[0mX\u001b[0m\u001b[0;34m,\u001b[0m \u001b[0;34m**\u001b[0m\u001b[0mfit_params\u001b[0m\u001b[0;34m)\u001b[0m\u001b[0;34m.\u001b[0m\u001b[0mtransform\u001b[0m\u001b[0;34m(\u001b[0m\u001b[0mX\u001b[0m\u001b[0;34m)\u001b[0m\u001b[0;34m\u001b[0m\u001b[0m\n\u001b[0m\u001b[1;32m    463\u001b[0m         \u001b[0;32melse\u001b[0m\u001b[0;34m:\u001b[0m\u001b[0;34m\u001b[0m\u001b[0m\n\u001b[1;32m    464\u001b[0m             \u001b[0;31m# fit method of arity 2 (supervised transformation)\u001b[0m\u001b[0;34m\u001b[0m\u001b[0;34m\u001b[0m\u001b[0m\n",
      "\u001b[0;32m~/.pyenv/versions/3.6.3/envs/tensorflow/lib/python3.6/site-packages/sklearn/preprocessing/data.py\u001b[0m in \u001b[0;36mfit\u001b[0;34m(self, X, y)\u001b[0m\n\u001b[1;32m    321\u001b[0m         \u001b[0;31m# Reset internal state before fitting\u001b[0m\u001b[0;34m\u001b[0m\u001b[0;34m\u001b[0m\u001b[0m\n\u001b[1;32m    322\u001b[0m         \u001b[0mself\u001b[0m\u001b[0;34m.\u001b[0m\u001b[0m_reset\u001b[0m\u001b[0;34m(\u001b[0m\u001b[0;34m)\u001b[0m\u001b[0;34m\u001b[0m\u001b[0m\n\u001b[0;32m--> 323\u001b[0;31m         \u001b[0;32mreturn\u001b[0m \u001b[0mself\u001b[0m\u001b[0;34m.\u001b[0m\u001b[0mpartial_fit\u001b[0m\u001b[0;34m(\u001b[0m\u001b[0mX\u001b[0m\u001b[0;34m,\u001b[0m \u001b[0my\u001b[0m\u001b[0;34m)\u001b[0m\u001b[0;34m\u001b[0m\u001b[0m\n\u001b[0m\u001b[1;32m    324\u001b[0m \u001b[0;34m\u001b[0m\u001b[0m\n\u001b[1;32m    325\u001b[0m     \u001b[0;32mdef\u001b[0m \u001b[0mpartial_fit\u001b[0m\u001b[0;34m(\u001b[0m\u001b[0mself\u001b[0m\u001b[0;34m,\u001b[0m \u001b[0mX\u001b[0m\u001b[0;34m,\u001b[0m \u001b[0my\u001b[0m\u001b[0;34m=\u001b[0m\u001b[0;32mNone\u001b[0m\u001b[0;34m)\u001b[0m\u001b[0;34m:\u001b[0m\u001b[0;34m\u001b[0m\u001b[0m\n",
      "\u001b[0;32m~/.pyenv/versions/3.6.3/envs/tensorflow/lib/python3.6/site-packages/sklearn/preprocessing/data.py\u001b[0m in \u001b[0;36mpartial_fit\u001b[0;34m(self, X, y)\u001b[0m\n\u001b[1;32m    349\u001b[0m         X = check_array(X, copy=self.copy, warn_on_dtype=True,\n\u001b[1;32m    350\u001b[0m                         \u001b[0mestimator\u001b[0m\u001b[0;34m=\u001b[0m\u001b[0mself\u001b[0m\u001b[0;34m,\u001b[0m \u001b[0mdtype\u001b[0m\u001b[0;34m=\u001b[0m\u001b[0mFLOAT_DTYPES\u001b[0m\u001b[0;34m,\u001b[0m\u001b[0;34m\u001b[0m\u001b[0m\n\u001b[0;32m--> 351\u001b[0;31m                         force_all_finite=\"allow-nan\")\n\u001b[0m\u001b[1;32m    352\u001b[0m \u001b[0;34m\u001b[0m\u001b[0m\n\u001b[1;32m    353\u001b[0m         \u001b[0mdata_min\u001b[0m \u001b[0;34m=\u001b[0m \u001b[0mnp\u001b[0m\u001b[0;34m.\u001b[0m\u001b[0mnanmin\u001b[0m\u001b[0;34m(\u001b[0m\u001b[0mX\u001b[0m\u001b[0;34m,\u001b[0m \u001b[0maxis\u001b[0m\u001b[0;34m=\u001b[0m\u001b[0;36m0\u001b[0m\u001b[0;34m)\u001b[0m\u001b[0;34m\u001b[0m\u001b[0m\n",
      "\u001b[0;32m~/.pyenv/versions/3.6.3/envs/tensorflow/lib/python3.6/site-packages/sklearn/utils/validation.py\u001b[0m in \u001b[0;36mcheck_array\u001b[0;34m(array, accept_sparse, accept_large_sparse, dtype, order, copy, force_all_finite, ensure_2d, allow_nd, ensure_min_samples, ensure_min_features, warn_on_dtype, estimator)\u001b[0m\n\u001b[1;32m    520\u001b[0m             \u001b[0;32mtry\u001b[0m\u001b[0;34m:\u001b[0m\u001b[0;34m\u001b[0m\u001b[0m\n\u001b[1;32m    521\u001b[0m                 \u001b[0mwarnings\u001b[0m\u001b[0;34m.\u001b[0m\u001b[0msimplefilter\u001b[0m\u001b[0;34m(\u001b[0m\u001b[0;34m'error'\u001b[0m\u001b[0;34m,\u001b[0m \u001b[0mComplexWarning\u001b[0m\u001b[0;34m)\u001b[0m\u001b[0;34m\u001b[0m\u001b[0m\n\u001b[0;32m--> 522\u001b[0;31m                 \u001b[0marray\u001b[0m \u001b[0;34m=\u001b[0m \u001b[0mnp\u001b[0m\u001b[0;34m.\u001b[0m\u001b[0masarray\u001b[0m\u001b[0;34m(\u001b[0m\u001b[0marray\u001b[0m\u001b[0;34m,\u001b[0m \u001b[0mdtype\u001b[0m\u001b[0;34m=\u001b[0m\u001b[0mdtype\u001b[0m\u001b[0;34m,\u001b[0m \u001b[0morder\u001b[0m\u001b[0;34m=\u001b[0m\u001b[0morder\u001b[0m\u001b[0;34m)\u001b[0m\u001b[0;34m\u001b[0m\u001b[0m\n\u001b[0m\u001b[1;32m    523\u001b[0m             \u001b[0;32mexcept\u001b[0m \u001b[0mComplexWarning\u001b[0m\u001b[0;34m:\u001b[0m\u001b[0;34m\u001b[0m\u001b[0m\n\u001b[1;32m    524\u001b[0m                 raise ValueError(\"Complex data not supported\\n\"\n",
      "\u001b[0;32m~/.pyenv/versions/3.6.3/envs/tensorflow/lib/python3.6/site-packages/numpy/core/numeric.py\u001b[0m in \u001b[0;36masarray\u001b[0;34m(a, dtype, order)\u001b[0m\n\u001b[1;32m    490\u001b[0m \u001b[0;34m\u001b[0m\u001b[0m\n\u001b[1;32m    491\u001b[0m     \"\"\"\n\u001b[0;32m--> 492\u001b[0;31m     \u001b[0;32mreturn\u001b[0m \u001b[0marray\u001b[0m\u001b[0;34m(\u001b[0m\u001b[0ma\u001b[0m\u001b[0;34m,\u001b[0m \u001b[0mdtype\u001b[0m\u001b[0;34m,\u001b[0m \u001b[0mcopy\u001b[0m\u001b[0;34m=\u001b[0m\u001b[0;32mFalse\u001b[0m\u001b[0;34m,\u001b[0m \u001b[0morder\u001b[0m\u001b[0;34m=\u001b[0m\u001b[0morder\u001b[0m\u001b[0;34m)\u001b[0m\u001b[0;34m\u001b[0m\u001b[0m\n\u001b[0m\u001b[1;32m    493\u001b[0m \u001b[0;34m\u001b[0m\u001b[0m\n\u001b[1;32m    494\u001b[0m \u001b[0;34m\u001b[0m\u001b[0m\n",
      "\u001b[0;31mTypeError\u001b[0m: float() argument must be a string or a number, not 'builtin_function_or_method'"
     ]
    }
   ],
   "source": [
    "cl, scl = set_data(cl)"
   ]
  },
  {
   "cell_type": "code",
   "execution_count": null,
   "metadata": {},
   "outputs": [],
   "source": []
  },
  {
   "cell_type": "code",
   "execution_count": 8,
   "metadata": {},
   "outputs": [],
   "source": [
    "def processData(data,lb):\n",
    "    X,Y = [],[]\n",
    "    for i in range(len(data)-lb-1):\n",
    "        X.append(data[i:(i+lb)])\n",
    "        Y.append(data[(i+lb),0])\n",
    "    return np.array(X),np.array(Y)"
   ]
  },
  {
   "cell_type": "code",
   "execution_count": 9,
   "metadata": {},
   "outputs": [],
   "source": [
    "X, y = processData(cl,7)"
   ]
  },
  {
   "cell_type": "code",
   "execution_count": 10,
   "metadata": {},
   "outputs": [
    {
     "name": "stdout",
     "output_type": "stream",
     "text": [
      "(1251, 7, 3)\n",
      "(1251,)\n"
     ]
    }
   ],
   "source": [
    "print(X.shape)\n",
    "print(y.shape)"
   ]
  },
  {
   "cell_type": "code",
   "execution_count": 11,
   "metadata": {},
   "outputs": [
    {
     "name": "stdout",
     "output_type": "stream",
     "text": [
      "1000\n",
      "251\n",
      "1000\n",
      "251\n"
     ]
    }
   ],
   "source": [
    "X_train,X_test = X[:int(X.shape[0]*0.80)],X[int(X.shape[0]*0.80):]\n",
    "y_train,y_test = y[:int(y.shape[0]*0.80)],y[int(y.shape[0]*0.80):]\n",
    "print(X_train.shape[0])\n",
    "print(X_test.shape[0])\n",
    "print(y_train.shape[0])\n",
    "print(y_test.shape[0])"
   ]
  },
  {
   "cell_type": "markdown",
   "metadata": {},
   "source": [
    "### Build the model"
   ]
  },
  {
   "cell_type": "code",
   "execution_count": 12,
   "metadata": {
    "scrolled": true
   },
   "outputs": [
    {
     "name": "stdout",
     "output_type": "stream",
     "text": [
      "Train on 1000 samples, validate on 251 samples\n",
      "Epoch 1/300\n",
      "1000/1000 [==============================] - 1s 1ms/step - loss: 6.2857e-04 - val_loss: 0.0033\n",
      "Epoch 2/300\n",
      "1000/1000 [==============================] - 0s 470us/step - loss: 0.0016 - val_loss: 0.0044\n",
      "Epoch 3/300\n",
      "1000/1000 [==============================] - 0s 470us/step - loss: 3.3018e-04 - val_loss: 0.0022\n",
      "Epoch 4/300\n",
      "1000/1000 [==============================] - 0s 482us/step - loss: 2.9698e-04 - val_loss: 0.0044\n",
      "Epoch 5/300\n",
      "1000/1000 [==============================] - 0s 492us/step - loss: 4.3940e-04 - val_loss: 0.0071\n",
      "Epoch 6/300\n",
      "1000/1000 [==============================] - 0s 485us/step - loss: 7.1388e-04 - val_loss: 0.0075\n",
      "Epoch 7/300\n",
      "1000/1000 [==============================] - 0s 488us/step - loss: 0.0014 - val_loss: 0.0063\n",
      "Epoch 8/300\n",
      "1000/1000 [==============================] - 1s 516us/step - loss: 0.0018 - val_loss: 0.0051\n",
      "Epoch 9/300\n",
      "1000/1000 [==============================] - 0s 482us/step - loss: 0.0021 - val_loss: 0.0021\n",
      "Epoch 10/300\n",
      "1000/1000 [==============================] - 0s 482us/step - loss: 0.0011 - val_loss: 0.0030\n",
      "Epoch 11/300\n",
      "1000/1000 [==============================] - 0s 499us/step - loss: 3.3926e-04 - val_loss: 0.0035\n",
      "Epoch 12/300\n",
      "1000/1000 [==============================] - 1s 505us/step - loss: 2.9898e-04 - val_loss: 0.0027\n",
      "Epoch 13/300\n",
      "1000/1000 [==============================] - 0s 500us/step - loss: 2.5213e-04 - val_loss: 0.0023\n",
      "Epoch 14/300\n",
      "1000/1000 [==============================] - 0s 493us/step - loss: 2.1421e-04 - val_loss: 0.0023\n",
      "Epoch 15/300\n",
      "1000/1000 [==============================] - 0s 495us/step - loss: 1.9904e-04 - val_loss: 0.0020\n",
      "Epoch 16/300\n",
      "1000/1000 [==============================] - 0s 493us/step - loss: 1.9604e-04 - val_loss: 0.0018\n",
      "Epoch 17/300\n",
      "1000/1000 [==============================] - 0s 496us/step - loss: 1.9157e-04 - val_loss: 0.0017\n",
      "Epoch 18/300\n",
      "1000/1000 [==============================] - 0s 489us/step - loss: 1.9192e-04 - val_loss: 0.0016\n",
      "Epoch 19/300\n",
      "1000/1000 [==============================] - 0s 497us/step - loss: 1.9419e-04 - val_loss: 0.0015\n",
      "Epoch 20/300\n",
      "1000/1000 [==============================] - 0s 492us/step - loss: 1.9645e-04 - val_loss: 0.0015\n",
      "Epoch 21/300\n",
      "1000/1000 [==============================] - 0s 495us/step - loss: 2.0080e-04 - val_loss: 0.0015\n",
      "Epoch 22/300\n",
      "1000/1000 [==============================] - 0s 498us/step - loss: 2.0629e-04 - val_loss: 0.0015\n",
      "Epoch 23/300\n",
      "1000/1000 [==============================] - 0s 493us/step - loss: 2.1136e-04 - val_loss: 0.0014\n",
      "Epoch 24/300\n",
      "1000/1000 [==============================] - 0s 491us/step - loss: 2.1520e-04 - val_loss: 0.0014\n",
      "Epoch 25/300\n",
      "1000/1000 [==============================] - 0s 495us/step - loss: 2.1746e-04 - val_loss: 0.0014\n",
      "Epoch 26/300\n",
      "1000/1000 [==============================] - 0s 498us/step - loss: 2.1833e-04 - val_loss: 0.0015\n",
      "Epoch 27/300\n",
      "1000/1000 [==============================] - 1s 506us/step - loss: 2.1822e-04 - val_loss: 0.0015\n",
      "Epoch 28/300\n",
      "1000/1000 [==============================] - 0s 491us/step - loss: 2.1747e-04 - val_loss: 0.0015\n",
      "Epoch 29/300\n",
      "1000/1000 [==============================] - 0s 495us/step - loss: 2.1636e-04 - val_loss: 0.0015\n",
      "Epoch 30/300\n",
      "1000/1000 [==============================] - 0s 496us/step - loss: 2.1499e-04 - val_loss: 0.0015\n",
      "Epoch 31/300\n",
      "1000/1000 [==============================] - 0s 494us/step - loss: 2.1341e-04 - val_loss: 0.0015\n",
      "Epoch 32/300\n",
      "1000/1000 [==============================] - 1s 504us/step - loss: 2.1164e-04 - val_loss: 0.0015\n",
      "Epoch 33/300\n",
      "1000/1000 [==============================] - 0s 488us/step - loss: 2.0973e-04 - val_loss: 0.0014\n",
      "Epoch 34/300\n",
      "1000/1000 [==============================] - 0s 492us/step - loss: 2.0771e-04 - val_loss: 0.0014\n",
      "Epoch 35/300\n",
      "1000/1000 [==============================] - 0s 497us/step - loss: 2.0561e-04 - val_loss: 0.0014\n",
      "Epoch 36/300\n",
      "1000/1000 [==============================] - 0s 496us/step - loss: 2.0346e-04 - val_loss: 0.0014\n",
      "Epoch 37/300\n",
      "1000/1000 [==============================] - 0s 493us/step - loss: 2.0127e-04 - val_loss: 0.0014\n",
      "Epoch 38/300\n",
      "1000/1000 [==============================] - 0s 495us/step - loss: 1.9906e-04 - val_loss: 0.0014\n",
      "Epoch 39/300\n",
      "1000/1000 [==============================] - 1s 510us/step - loss: 1.9684e-04 - val_loss: 0.0014\n",
      "Epoch 40/300\n",
      "1000/1000 [==============================] - 1s 503us/step - loss: 1.9463e-04 - val_loss: 0.0013\n",
      "Epoch 41/300\n",
      "1000/1000 [==============================] - 1s 515us/step - loss: 1.9243e-04 - val_loss: 0.0013\n",
      "Epoch 42/300\n",
      "1000/1000 [==============================] - 1s 549us/step - loss: 1.9024e-04 - val_loss: 0.0013\n",
      "Epoch 43/300\n",
      "1000/1000 [==============================] - 1s 647us/step - loss: 1.8808e-04 - val_loss: 0.0013\n",
      "Epoch 44/300\n",
      "1000/1000 [==============================] - 0s 479us/step - loss: 1.8595e-04 - val_loss: 0.0013\n",
      "Epoch 45/300\n",
      "1000/1000 [==============================] - 1s 544us/step - loss: 1.8387e-04 - val_loss: 0.0012\n",
      "Epoch 46/300\n",
      "1000/1000 [==============================] - 0s 480us/step - loss: 1.8182e-04 - val_loss: 0.0012\n",
      "Epoch 47/300\n",
      "1000/1000 [==============================] - 0s 477us/step - loss: 1.7982e-04 - val_loss: 0.0012\n",
      "Epoch 48/300\n",
      "1000/1000 [==============================] - 0s 489us/step - loss: 1.7787e-04 - val_loss: 0.0012\n",
      "Epoch 49/300\n",
      "1000/1000 [==============================] - 0s 496us/step - loss: 1.7599e-04 - val_loss: 0.0012\n",
      "Epoch 50/300\n",
      "1000/1000 [==============================] - 0s 487us/step - loss: 1.7416e-04 - val_loss: 0.0011\n",
      "Epoch 51/300\n",
      "1000/1000 [==============================] - 0s 482us/step - loss: 1.7238e-04 - val_loss: 0.0011\n",
      "Epoch 52/300\n",
      "1000/1000 [==============================] - 0s 490us/step - loss: 1.7066e-04 - val_loss: 0.0011\n",
      "Epoch 53/300\n",
      "1000/1000 [==============================] - 0s 481us/step - loss: 1.6902e-04 - val_loss: 0.0011\n",
      "Epoch 54/300\n",
      "1000/1000 [==============================] - 0s 483us/step - loss: 1.6745e-04 - val_loss: 0.0011\n",
      "Epoch 55/300\n",
      "1000/1000 [==============================] - 0s 483us/step - loss: 1.6595e-04 - val_loss: 0.0011\n",
      "Epoch 56/300\n",
      "1000/1000 [==============================] - 0s 481us/step - loss: 1.6453e-04 - val_loss: 0.0010\n",
      "Epoch 57/300\n",
      "1000/1000 [==============================] - 0s 477us/step - loss: 1.6318e-04 - val_loss: 0.0010\n",
      "Epoch 58/300\n",
      "1000/1000 [==============================] - 0s 478us/step - loss: 1.6191e-04 - val_loss: 9.9908e-04\n",
      "Epoch 59/300\n",
      "1000/1000 [==============================] - 0s 484us/step - loss: 1.6073e-04 - val_loss: 9.8296e-04\n",
      "Epoch 60/300\n",
      "1000/1000 [==============================] - 0s 474us/step - loss: 1.5963e-04 - val_loss: 9.6753e-04\n",
      "Epoch 61/300\n",
      "1000/1000 [==============================] - 0s 475us/step - loss: 1.5862e-04 - val_loss: 9.5281e-04\n",
      "Epoch 62/300\n",
      "1000/1000 [==============================] - 0s 484us/step - loss: 1.5769e-04 - val_loss: 9.3884e-04\n",
      "Epoch 63/300\n",
      "1000/1000 [==============================] - 0s 476us/step - loss: 1.5686e-04 - val_loss: 9.2562e-04\n",
      "Epoch 64/300\n",
      "1000/1000 [==============================] - 0s 476us/step - loss: 1.5611e-04 - val_loss: 9.1320e-04\n",
      "Epoch 65/300\n",
      "1000/1000 [==============================] - 0s 481us/step - loss: 1.5545e-04 - val_loss: 9.0158e-04\n",
      "Epoch 66/300\n",
      "1000/1000 [==============================] - 0s 474us/step - loss: 1.5487e-04 - val_loss: 8.9073e-04\n",
      "Epoch 67/300\n",
      "1000/1000 [==============================] - 0s 482us/step - loss: 1.5438e-04 - val_loss: 8.8068e-04\n",
      "Epoch 68/300\n",
      "1000/1000 [==============================] - 0s 477us/step - loss: 1.5397e-04 - val_loss: 8.7143e-04\n",
      "Epoch 69/300\n",
      "1000/1000 [==============================] - 0s 484us/step - loss: 1.5363e-04 - val_loss: 8.6291e-04\n",
      "Epoch 70/300\n",
      "1000/1000 [==============================] - 0s 485us/step - loss: 1.5335e-04 - val_loss: 8.5513e-04\n",
      "Epoch 71/300\n",
      "1000/1000 [==============================] - 0s 493us/step - loss: 1.5313e-04 - val_loss: 8.4803e-04\n",
      "Epoch 72/300\n",
      "1000/1000 [==============================] - 0s 493us/step - loss: 1.5295e-04 - val_loss: 8.4158e-04\n",
      "Epoch 73/300\n",
      "1000/1000 [==============================] - 0s 490us/step - loss: 1.5280e-04 - val_loss: 8.3570e-04\n",
      "Epoch 74/300\n"
     ]
    },
    {
     "name": "stdout",
     "output_type": "stream",
     "text": [
      "1000/1000 [==============================] - 0s 476us/step - loss: 1.5268e-04 - val_loss: 8.3034e-04\n",
      "Epoch 75/300\n",
      "1000/1000 [==============================] - 0s 458us/step - loss: 1.5256e-04 - val_loss: 8.2545e-04\n",
      "Epoch 76/300\n",
      "1000/1000 [==============================] - 0s 453us/step - loss: 1.5244e-04 - val_loss: 8.2096e-04\n",
      "Epoch 77/300\n",
      "1000/1000 [==============================] - 0s 455us/step - loss: 1.5231e-04 - val_loss: 8.1681e-04\n",
      "Epoch 78/300\n",
      "1000/1000 [==============================] - 0s 476us/step - loss: 1.5216e-04 - val_loss: 8.1292e-04\n",
      "Epoch 79/300\n",
      "1000/1000 [==============================] - 0s 455us/step - loss: 1.5199e-04 - val_loss: 8.0926e-04\n",
      "Epoch 80/300\n",
      "1000/1000 [==============================] - 0s 453us/step - loss: 1.5179e-04 - val_loss: 8.0578e-04\n",
      "Epoch 81/300\n",
      "1000/1000 [==============================] - 0s 457us/step - loss: 1.5156e-04 - val_loss: 8.0243e-04\n",
      "Epoch 82/300\n",
      "1000/1000 [==============================] - 0s 454us/step - loss: 1.5131e-04 - val_loss: 7.9920e-04\n",
      "Epoch 83/300\n",
      "1000/1000 [==============================] - 0s 449us/step - loss: 1.5104e-04 - val_loss: 7.9601e-04\n",
      "Epoch 84/300\n",
      "1000/1000 [==============================] - 0s 452us/step - loss: 1.5074e-04 - val_loss: 7.9288e-04\n",
      "Epoch 85/300\n",
      "1000/1000 [==============================] - 0s 454us/step - loss: 1.5043e-04 - val_loss: 7.8978e-04\n",
      "Epoch 86/300\n",
      "1000/1000 [==============================] - 0s 457us/step - loss: 1.5010e-04 - val_loss: 7.8671e-04\n",
      "Epoch 87/300\n",
      "1000/1000 [==============================] - 0s 456us/step - loss: 1.4976e-04 - val_loss: 7.8363e-04\n",
      "Epoch 88/300\n",
      "1000/1000 [==============================] - 0s 452us/step - loss: 1.4942e-04 - val_loss: 7.8057e-04\n",
      "Epoch 89/300\n",
      "1000/1000 [==============================] - 0s 453us/step - loss: 1.4906e-04 - val_loss: 7.7752e-04\n",
      "Epoch 90/300\n",
      "1000/1000 [==============================] - 0s 460us/step - loss: 1.4870e-04 - val_loss: 7.7447e-04\n",
      "Epoch 91/300\n",
      "1000/1000 [==============================] - 0s 477us/step - loss: 1.4834e-04 - val_loss: 7.7143e-04\n",
      "Epoch 92/300\n",
      "1000/1000 [==============================] - 0s 474us/step - loss: 1.4798e-04 - val_loss: 7.6839e-04\n",
      "Epoch 93/300\n",
      "1000/1000 [==============================] - 0s 461us/step - loss: 1.4762e-04 - val_loss: 7.6538e-04\n",
      "Epoch 94/300\n",
      "1000/1000 [==============================] - 0s 459us/step - loss: 1.4725e-04 - val_loss: 7.6237e-04\n",
      "Epoch 95/300\n",
      "1000/1000 [==============================] - 0s 462us/step - loss: 1.4688e-04 - val_loss: 7.5938e-04\n",
      "Epoch 96/300\n",
      "1000/1000 [==============================] - 0s 455us/step - loss: 1.4652e-04 - val_loss: 7.5643e-04\n",
      "Epoch 97/300\n",
      "1000/1000 [==============================] - 0s 455us/step - loss: 1.4616e-04 - val_loss: 7.5350e-04\n",
      "Epoch 98/300\n",
      "1000/1000 [==============================] - 0s 451us/step - loss: 1.4580e-04 - val_loss: 7.5062e-04\n",
      "Epoch 99/300\n",
      "1000/1000 [==============================] - 0s 456us/step - loss: 1.4544e-04 - val_loss: 7.4779e-04\n",
      "Epoch 100/300\n",
      "1000/1000 [==============================] - 0s 458us/step - loss: 1.4509e-04 - val_loss: 7.4506e-04\n",
      "Epoch 101/300\n",
      "1000/1000 [==============================] - 0s 459us/step - loss: 1.4475e-04 - val_loss: 7.4250e-04\n",
      "Epoch 102/300\n",
      "1000/1000 [==============================] - 0s 453us/step - loss: 1.4444e-04 - val_loss: 7.4027e-04\n",
      "Epoch 103/300\n",
      "1000/1000 [==============================] - 0s 457us/step - loss: 1.4419e-04 - val_loss: 7.3881e-04\n",
      "Epoch 104/300\n",
      "1000/1000 [==============================] - 0s 456us/step - loss: 1.4407e-04 - val_loss: 7.3889e-04\n",
      "Epoch 105/300\n",
      "1000/1000 [==============================] - 0s 453us/step - loss: 1.4420e-04 - val_loss: 7.4072e-04\n",
      "Epoch 106/300\n",
      "1000/1000 [==============================] - 0s 460us/step - loss: 1.4462e-04 - val_loss: 7.4109e-04\n",
      "Epoch 107/300\n",
      "1000/1000 [==============================] - 0s 467us/step - loss: 1.4483e-04 - val_loss: 7.3642e-04\n",
      "Epoch 108/300\n",
      "1000/1000 [==============================] - 0s 458us/step - loss: 1.4413e-04 - val_loss: 7.2959e-04\n",
      "Epoch 109/300\n",
      "1000/1000 [==============================] - 0s 460us/step - loss: 1.4279e-04 - val_loss: 7.2392e-04\n",
      "Epoch 110/300\n",
      "1000/1000 [==============================] - 0s 456us/step - loss: 1.4146e-04 - val_loss: 7.1994e-04\n",
      "Epoch 111/300\n",
      "1000/1000 [==============================] - 0s 458us/step - loss: 1.4051e-04 - val_loss: 7.1674e-04\n",
      "Epoch 112/300\n",
      "1000/1000 [==============================] - 0s 461us/step - loss: 1.3994e-04 - val_loss: 7.1364e-04\n",
      "Epoch 113/300\n",
      "1000/1000 [==============================] - 0s 460us/step - loss: 1.3961e-04 - val_loss: 7.1077e-04\n",
      "Epoch 114/300\n",
      "1000/1000 [==============================] - 0s 456us/step - loss: 1.3946e-04 - val_loss: 7.0852e-04\n",
      "Epoch 115/300\n",
      "1000/1000 [==============================] - 0s 458us/step - loss: 1.3945e-04 - val_loss: 7.0707e-04\n",
      "Epoch 116/300\n",
      "1000/1000 [==============================] - 0s 460us/step - loss: 1.3954e-04 - val_loss: 7.0641e-04\n",
      "Epoch 117/300\n",
      "1000/1000 [==============================] - 0s 458us/step - loss: 1.3971e-04 - val_loss: 7.0665e-04\n",
      "Epoch 118/300\n",
      "1000/1000 [==============================] - 0s 454us/step - loss: 1.3998e-04 - val_loss: 7.0870e-04\n",
      "Epoch 119/300\n",
      "1000/1000 [==============================] - 0s 467us/step - loss: 1.4048e-04 - val_loss: 7.1433e-04\n",
      "Epoch 120/300\n",
      "1000/1000 [==============================] - 0s 450us/step - loss: 1.4139e-04 - val_loss: 7.2206e-04\n",
      "Epoch 121/300\n",
      "1000/1000 [==============================] - 0s 452us/step - loss: 1.4247e-04 - val_loss: 7.2582e-04\n",
      "Epoch 122/300\n",
      "1000/1000 [==============================] - 0s 456us/step - loss: 1.4294e-04 - val_loss: 7.2760e-04\n",
      "Epoch 123/300\n",
      "1000/1000 [==============================] - 0s 453us/step - loss: 1.4307e-04 - val_loss: 7.2720e-04\n",
      "Epoch 124/300\n",
      "1000/1000 [==============================] - 0s 460us/step - loss: 1.4289e-04 - val_loss: 7.2601e-04\n",
      "Epoch 125/300\n",
      "1000/1000 [==============================] - 0s 459us/step - loss: 1.4239e-04 - val_loss: 7.3108e-04\n",
      "Epoch 126/300\n",
      "1000/1000 [==============================] - 0s 461us/step - loss: 1.4231e-04 - val_loss: 7.2920e-04\n",
      "Epoch 127/300\n",
      "1000/1000 [==============================] - 0s 454us/step - loss: 1.4113e-04 - val_loss: 7.2474e-04\n",
      "Epoch 128/300\n",
      "1000/1000 [==============================] - 0s 453us/step - loss: 1.3992e-04 - val_loss: 7.2208e-04\n",
      "Epoch 129/300\n",
      "1000/1000 [==============================] - 0s 457us/step - loss: 1.3867e-04 - val_loss: 7.1371e-04\n",
      "Epoch 130/300\n",
      "1000/1000 [==============================] - 0s 458us/step - loss: 1.3704e-04 - val_loss: 6.9967e-04\n",
      "Epoch 131/300\n",
      "1000/1000 [==============================] - 0s 456us/step - loss: 1.3537e-04 - val_loss: 6.9567e-04\n",
      "Epoch 132/300\n",
      "1000/1000 [==============================] - 0s 455us/step - loss: 1.3509e-04 - val_loss: 6.9393e-04\n",
      "Epoch 133/300\n",
      "1000/1000 [==============================] - 0s 464us/step - loss: 1.3486e-04 - val_loss: 6.9190e-04\n",
      "Epoch 134/300\n",
      "1000/1000 [==============================] - 0s 458us/step - loss: 1.3505e-04 - val_loss: 6.9208e-04\n",
      "Epoch 135/300\n",
      "1000/1000 [==============================] - 0s 458us/step - loss: 1.3538e-04 - val_loss: 6.9159e-04\n",
      "Epoch 136/300\n",
      "1000/1000 [==============================] - 0s 464us/step - loss: 1.3571e-04 - val_loss: 6.9644e-04\n",
      "Epoch 137/300\n",
      "1000/1000 [==============================] - 0s 455us/step - loss: 1.3691e-04 - val_loss: 7.1762e-04\n",
      "Epoch 138/300\n",
      "1000/1000 [==============================] - 0s 457us/step - loss: 1.4001e-04 - val_loss: 7.5152e-04\n",
      "Epoch 139/300\n",
      "1000/1000 [==============================] - 0s 458us/step - loss: 1.4512e-04 - val_loss: 8.1885e-04\n",
      "Epoch 140/300\n",
      "1000/1000 [==============================] - 0s 452us/step - loss: 1.5561e-04 - val_loss: 0.0010\n",
      "Epoch 141/300\n",
      "1000/1000 [==============================] - 0s 457us/step - loss: 1.8055e-04 - val_loss: 0.0017\n",
      "Epoch 142/300\n",
      "1000/1000 [==============================] - 0s 455us/step - loss: 1.7385e-04 - val_loss: 0.0047\n",
      "Epoch 143/300\n",
      "1000/1000 [==============================] - 0s 458us/step - loss: 1.8977e-04 - val_loss: 0.0034\n",
      "Epoch 144/300\n",
      "1000/1000 [==============================] - 0s 464us/step - loss: 2.4786e-04 - val_loss: 0.0032\n",
      "Epoch 145/300\n",
      "1000/1000 [==============================] - 0s 451us/step - loss: 2.6130e-04 - val_loss: 0.0047\n"
     ]
    },
    {
     "name": "stdout",
     "output_type": "stream",
     "text": [
      "Epoch 146/300\n",
      "1000/1000 [==============================] - 0s 451us/step - loss: 3.0182e-04 - val_loss: 0.0031\n",
      "Epoch 147/300\n",
      "1000/1000 [==============================] - 0s 464us/step - loss: 2.8196e-04 - val_loss: 0.0042\n",
      "Epoch 148/300\n",
      "1000/1000 [==============================] - 0s 458us/step - loss: 3.4319e-04 - val_loss: 0.0028\n",
      "Epoch 149/300\n",
      "1000/1000 [==============================] - 0s 468us/step - loss: 3.1356e-04 - val_loss: 0.0021\n",
      "Epoch 150/300\n",
      "1000/1000 [==============================] - 0s 464us/step - loss: 2.4508e-04 - val_loss: 0.0018\n",
      "Epoch 151/300\n",
      "1000/1000 [==============================] - 0s 460us/step - loss: 2.0419e-04 - val_loss: 0.0017\n",
      "Epoch 152/300\n",
      "1000/1000 [==============================] - 0s 451us/step - loss: 2.8526e-04 - val_loss: 0.0015\n",
      "Epoch 153/300\n",
      "1000/1000 [==============================] - 0s 456us/step - loss: 1.6861e-04 - val_loss: 0.0013\n",
      "Epoch 154/300\n",
      "1000/1000 [==============================] - 0s 454us/step - loss: 1.6300e-04 - val_loss: 0.0012\n",
      "Epoch 155/300\n",
      "1000/1000 [==============================] - 0s 450us/step - loss: 1.2115e-04 - val_loss: 9.1956e-04\n",
      "Epoch 156/300\n",
      "1000/1000 [==============================] - 0s 454us/step - loss: 1.2098e-04 - val_loss: 8.3616e-04\n",
      "Epoch 157/300\n",
      "1000/1000 [==============================] - 0s 463us/step - loss: 1.1811e-04 - val_loss: 7.5457e-04\n",
      "Epoch 158/300\n",
      "1000/1000 [==============================] - 0s 458us/step - loss: 1.1387e-04 - val_loss: 6.7462e-04\n",
      "Epoch 159/300\n",
      "1000/1000 [==============================] - 0s 457us/step - loss: 1.1149e-04 - val_loss: 6.2233e-04\n",
      "Epoch 160/300\n",
      "1000/1000 [==============================] - 0s 457us/step - loss: 1.0965e-04 - val_loss: 5.8488e-04\n",
      "Epoch 161/300\n",
      "1000/1000 [==============================] - 0s 459us/step - loss: 1.0836e-04 - val_loss: 5.5928e-04\n",
      "Epoch 162/300\n",
      "1000/1000 [==============================] - 0s 474us/step - loss: 1.0758e-04 - val_loss: 5.4285e-04\n",
      "Epoch 163/300\n",
      "1000/1000 [==============================] - 0s 453us/step - loss: 1.0715e-04 - val_loss: 5.3259e-04\n",
      "Epoch 164/300\n",
      "1000/1000 [==============================] - 0s 474us/step - loss: 1.0692e-04 - val_loss: 5.2629e-04\n",
      "Epoch 165/300\n",
      "1000/1000 [==============================] - 0s 457us/step - loss: 1.0680e-04 - val_loss: 5.2242e-04\n",
      "Epoch 166/300\n",
      "1000/1000 [==============================] - 0s 450us/step - loss: 1.0677e-04 - val_loss: 5.2017e-04\n",
      "Epoch 167/300\n",
      "1000/1000 [==============================] - 0s 463us/step - loss: 1.0682e-04 - val_loss: 5.1921e-04\n",
      "Epoch 168/300\n",
      "1000/1000 [==============================] - 0s 460us/step - loss: 1.0696e-04 - val_loss: 5.1941e-04\n",
      "Epoch 169/300\n",
      "1000/1000 [==============================] - 0s 456us/step - loss: 1.0718e-04 - val_loss: 5.2073e-04\n",
      "Epoch 170/300\n",
      "1000/1000 [==============================] - 0s 452us/step - loss: 1.0747e-04 - val_loss: 5.2306e-04\n",
      "Epoch 171/300\n",
      "1000/1000 [==============================] - 0s 452us/step - loss: 1.0784e-04 - val_loss: 5.2631e-04\n",
      "Epoch 172/300\n",
      "1000/1000 [==============================] - 0s 454us/step - loss: 1.0828e-04 - val_loss: 5.3039e-04\n",
      "Epoch 173/300\n",
      "1000/1000 [==============================] - 0s 478us/step - loss: 1.0880e-04 - val_loss: 5.3524e-04\n",
      "Epoch 174/300\n",
      "1000/1000 [==============================] - 0s 467us/step - loss: 1.0939e-04 - val_loss: 5.4079e-04\n",
      "Epoch 175/300\n",
      "1000/1000 [==============================] - 0s 456us/step - loss: 1.1006e-04 - val_loss: 5.4701e-04\n",
      "Epoch 176/300\n",
      "1000/1000 [==============================] - 0s 469us/step - loss: 1.1080e-04 - val_loss: 5.5387e-04\n",
      "Epoch 177/300\n",
      "1000/1000 [==============================] - 0s 468us/step - loss: 1.1164e-04 - val_loss: 5.6130e-04\n",
      "Epoch 178/300\n",
      "1000/1000 [==============================] - 0s 457us/step - loss: 1.1255e-04 - val_loss: 5.6927e-04\n",
      "Epoch 179/300\n",
      "1000/1000 [==============================] - 0s 457us/step - loss: 1.1354e-04 - val_loss: 5.7770e-04\n",
      "Epoch 180/300\n",
      "1000/1000 [==============================] - 0s 481us/step - loss: 1.1460e-04 - val_loss: 5.8649e-04\n",
      "Epoch 181/300\n",
      "1000/1000 [==============================] - 0s 462us/step - loss: 1.1572e-04 - val_loss: 5.9554e-04\n",
      "Epoch 182/300\n",
      "1000/1000 [==============================] - 0s 456us/step - loss: 1.1688e-04 - val_loss: 6.0472e-04\n",
      "Epoch 183/300\n",
      "1000/1000 [==============================] - 0s 462us/step - loss: 1.1807e-04 - val_loss: 6.1386e-04\n",
      "Epoch 184/300\n",
      "1000/1000 [==============================] - 0s 457us/step - loss: 1.1926e-04 - val_loss: 6.2282e-04\n",
      "Epoch 185/300\n",
      "1000/1000 [==============================] - 0s 456us/step - loss: 1.2041e-04 - val_loss: 6.3142e-04\n",
      "Epoch 186/300\n",
      "1000/1000 [==============================] - 0s 455us/step - loss: 1.2150e-04 - val_loss: 6.3953e-04\n",
      "Epoch 187/300\n",
      "1000/1000 [==============================] - 0s 459us/step - loss: 1.2249e-04 - val_loss: 6.4700e-04\n",
      "Epoch 188/300\n",
      "1000/1000 [==============================] - 0s 455us/step - loss: 1.2336e-04 - val_loss: 6.5375e-04\n",
      "Epoch 189/300\n",
      "1000/1000 [==============================] - 0s 455us/step - loss: 1.2410e-04 - val_loss: 6.5972e-04\n",
      "Epoch 190/300\n",
      "1000/1000 [==============================] - 0s 456us/step - loss: 1.2470e-04 - val_loss: 6.6489e-04\n",
      "Epoch 191/300\n",
      "1000/1000 [==============================] - 0s 454us/step - loss: 1.2515e-04 - val_loss: 6.6929e-04\n",
      "Epoch 192/300\n",
      "1000/1000 [==============================] - 0s 454us/step - loss: 1.2548e-04 - val_loss: 6.7296e-04\n",
      "Epoch 193/300\n",
      "1000/1000 [==============================] - 0s 452us/step - loss: 1.2569e-04 - val_loss: 6.7597e-04\n",
      "Epoch 194/300\n",
      "1000/1000 [==============================] - 0s 453us/step - loss: 1.2582e-04 - val_loss: 6.7842e-04\n",
      "Epoch 195/300\n",
      "1000/1000 [==============================] - 0s 462us/step - loss: 1.2588e-04 - val_loss: 6.8038e-04\n",
      "Epoch 196/300\n",
      "1000/1000 [==============================] - 0s 456us/step - loss: 1.2589e-04 - val_loss: 6.8194e-04\n",
      "Epoch 197/300\n",
      "1000/1000 [==============================] - 0s 456us/step - loss: 1.2587e-04 - val_loss: 6.8319e-04\n",
      "Epoch 198/300\n",
      "1000/1000 [==============================] - 0s 456us/step - loss: 1.2584e-04 - val_loss: 6.8419e-04\n",
      "Epoch 199/300\n",
      "1000/1000 [==============================] - 0s 455us/step - loss: 1.2579e-04 - val_loss: 6.8499e-04\n",
      "Epoch 200/300\n",
      "1000/1000 [==============================] - 0s 454us/step - loss: 1.2573e-04 - val_loss: 6.8564e-04\n",
      "Epoch 201/300\n",
      "1000/1000 [==============================] - 0s 453us/step - loss: 1.2567e-04 - val_loss: 6.8617e-04\n",
      "Epoch 202/300\n",
      "1000/1000 [==============================] - 0s 458us/step - loss: 1.2560e-04 - val_loss: 6.8660e-04\n",
      "Epoch 203/300\n",
      "1000/1000 [==============================] - 0s 450us/step - loss: 1.2553e-04 - val_loss: 6.8695e-04\n",
      "Epoch 204/300\n",
      "1000/1000 [==============================] - 0s 452us/step - loss: 1.2546e-04 - val_loss: 6.8722e-04\n",
      "Epoch 205/300\n",
      "1000/1000 [==============================] - 0s 467us/step - loss: 1.2537e-04 - val_loss: 6.8741e-04\n",
      "Epoch 206/300\n",
      "1000/1000 [==============================] - 0s 458us/step - loss: 1.2529e-04 - val_loss: 6.8755e-04\n",
      "Epoch 207/300\n",
      "1000/1000 [==============================] - 0s 458us/step - loss: 1.2519e-04 - val_loss: 6.8762e-04\n",
      "Epoch 208/300\n",
      "1000/1000 [==============================] - 0s 457us/step - loss: 1.2509e-04 - val_loss: 6.8764e-04\n",
      "Epoch 209/300\n",
      "1000/1000 [==============================] - 0s 457us/step - loss: 1.2499e-04 - val_loss: 6.8762e-04\n",
      "Epoch 210/300\n",
      "1000/1000 [==============================] - 0s 456us/step - loss: 1.2488e-04 - val_loss: 6.8755e-04\n",
      "Epoch 211/300\n",
      "1000/1000 [==============================] - 0s 453us/step - loss: 1.2477e-04 - val_loss: 6.8744e-04\n",
      "Epoch 212/300\n",
      "1000/1000 [==============================] - 0s 457us/step - loss: 1.2466e-04 - val_loss: 6.8731e-04\n",
      "Epoch 213/300\n",
      "1000/1000 [==============================] - 0s 453us/step - loss: 1.2454e-04 - val_loss: 6.8714e-04\n",
      "Epoch 214/300\n",
      "1000/1000 [==============================] - 0s 452us/step - loss: 1.2443e-04 - val_loss: 6.8696e-04\n",
      "Epoch 215/300\n",
      "1000/1000 [==============================] - 0s 455us/step - loss: 1.2431e-04 - val_loss: 6.8676e-04\n",
      "Epoch 216/300\n",
      "1000/1000 [==============================] - 0s 459us/step - loss: 1.2419e-04 - val_loss: 6.8654e-04\n",
      "Epoch 217/300\n"
     ]
    },
    {
     "name": "stdout",
     "output_type": "stream",
     "text": [
      "1000/1000 [==============================] - 0s 458us/step - loss: 1.2408e-04 - val_loss: 6.8630e-04\n",
      "Epoch 218/300\n",
      "1000/1000 [==============================] - 0s 454us/step - loss: 1.2396e-04 - val_loss: 6.8606e-04\n",
      "Epoch 219/300\n",
      "1000/1000 [==============================] - 0s 451us/step - loss: 1.2384e-04 - val_loss: 6.8580e-04\n",
      "Epoch 220/300\n",
      "1000/1000 [==============================] - 0s 454us/step - loss: 1.2372e-04 - val_loss: 6.8554e-04\n",
      "Epoch 221/300\n",
      "1000/1000 [==============================] - 0s 463us/step - loss: 1.2360e-04 - val_loss: 6.8527e-04\n",
      "Epoch 222/300\n",
      "1000/1000 [==============================] - 0s 459us/step - loss: 1.2348e-04 - val_loss: 6.8499e-04\n",
      "Epoch 223/300\n",
      "1000/1000 [==============================] - 0s 457us/step - loss: 1.2336e-04 - val_loss: 6.8472e-04\n",
      "Epoch 224/300\n",
      "1000/1000 [==============================] - 0s 460us/step - loss: 1.2324e-04 - val_loss: 6.8445e-04\n",
      "Epoch 225/300\n",
      "1000/1000 [==============================] - 0s 455us/step - loss: 1.2313e-04 - val_loss: 6.8419e-04\n",
      "Epoch 226/300\n",
      "1000/1000 [==============================] - 0s 462us/step - loss: 1.2302e-04 - val_loss: 6.8396e-04\n",
      "Epoch 227/300\n",
      "1000/1000 [==============================] - 0s 451us/step - loss: 1.2291e-04 - val_loss: 6.8376e-04\n",
      "Epoch 228/300\n",
      "1000/1000 [==============================] - 0s 473us/step - loss: 1.2280e-04 - val_loss: 6.8363e-04\n",
      "Epoch 229/300\n",
      "1000/1000 [==============================] - 0s 460us/step - loss: 1.2271e-04 - val_loss: 6.8362e-04\n",
      "Epoch 230/300\n",
      "1000/1000 [==============================] - 0s 456us/step - loss: 1.2264e-04 - val_loss: 6.8382e-04\n",
      "Epoch 231/300\n",
      "1000/1000 [==============================] - 0s 453us/step - loss: 1.2259e-04 - val_loss: 6.8438e-04\n",
      "Epoch 232/300\n",
      "1000/1000 [==============================] - 0s 453us/step - loss: 1.2259e-04 - val_loss: 6.8556e-04\n",
      "Epoch 233/300\n",
      "1000/1000 [==============================] - 0s 462us/step - loss: 1.2268e-04 - val_loss: 6.8774e-04\n",
      "Epoch 234/300\n",
      "1000/1000 [==============================] - 0s 454us/step - loss: 1.2290e-04 - val_loss: 6.9156e-04\n",
      "Epoch 235/300\n",
      "1000/1000 [==============================] - 0s 453us/step - loss: 1.2334e-04 - val_loss: 6.9819e-04\n",
      "Epoch 236/300\n",
      "1000/1000 [==============================] - 0s 456us/step - loss: 1.2413e-04 - val_loss: 7.0896e-04\n",
      "Epoch 237/300\n",
      "1000/1000 [==============================] - 0s 453us/step - loss: 1.2545e-04 - val_loss: 7.2757e-04\n",
      "Epoch 238/300\n",
      "1000/1000 [==============================] - 0s 453us/step - loss: 1.2774e-04 - val_loss: 7.6422e-04\n",
      "Epoch 239/300\n",
      "1000/1000 [==============================] - 0s 462us/step - loss: 1.3226e-04 - val_loss: 8.3781e-04\n",
      "Epoch 240/300\n",
      "1000/1000 [==============================] - 0s 459us/step - loss: 1.4130e-04 - val_loss: 0.0010\n",
      "Epoch 241/300\n",
      "1000/1000 [==============================] - 0s 451us/step - loss: 1.5955e-04 - val_loss: 0.0015\n",
      "Epoch 242/300\n",
      "1000/1000 [==============================] - 0s 456us/step - loss: 1.7575e-04 - val_loss: 0.0032\n",
      "Epoch 243/300\n",
      "1000/1000 [==============================] - 0s 455us/step - loss: 2.0789e-04 - val_loss: 0.0042\n",
      "Epoch 244/300\n",
      "1000/1000 [==============================] - 0s 451us/step - loss: 2.3341e-04 - val_loss: 0.0035\n",
      "Epoch 245/300\n",
      "1000/1000 [==============================] - 0s 463us/step - loss: 2.8885e-04 - val_loss: 0.0038\n",
      "Epoch 246/300\n",
      "1000/1000 [==============================] - 0s 459us/step - loss: 3.4629e-04 - val_loss: 0.0030\n",
      "Epoch 247/300\n",
      "1000/1000 [==============================] - 0s 468us/step - loss: 3.2798e-04 - val_loss: 0.0022\n",
      "Epoch 248/300\n",
      "1000/1000 [==============================] - 0s 448us/step - loss: 2.4661e-04 - val_loss: 0.0017\n",
      "Epoch 249/300\n",
      "1000/1000 [==============================] - 0s 449us/step - loss: 2.1733e-04 - val_loss: 0.0019\n",
      "Epoch 250/300\n",
      "1000/1000 [==============================] - 0s 455us/step - loss: 3.2927e-04 - val_loss: 0.0014\n",
      "Epoch 251/300\n",
      "1000/1000 [==============================] - 0s 462us/step - loss: 1.3804e-04 - val_loss: 0.0011\n",
      "Epoch 252/300\n",
      "1000/1000 [==============================] - 0s 456us/step - loss: 1.7258e-04 - val_loss: 0.0012\n",
      "Epoch 253/300\n",
      "1000/1000 [==============================] - 0s 455us/step - loss: 1.0470e-04 - val_loss: 8.1691e-04\n",
      "Epoch 254/300\n",
      "1000/1000 [==============================] - 0s 456us/step - loss: 1.0785e-04 - val_loss: 8.7333e-04\n",
      "Epoch 255/300\n",
      "1000/1000 [==============================] - 0s 454us/step - loss: 9.8576e-05 - val_loss: 7.9724e-04\n",
      "Epoch 256/300\n",
      "1000/1000 [==============================] - 0s 453us/step - loss: 9.6923e-05 - val_loss: 7.8034e-04\n",
      "Epoch 257/300\n",
      "1000/1000 [==============================] - 0s 455us/step - loss: 9.6748e-05 - val_loss: 7.7359e-04\n",
      "Epoch 258/300\n",
      "1000/1000 [==============================] - 0s 451us/step - loss: 9.7065e-05 - val_loss: 7.6990e-04\n",
      "Epoch 259/300\n",
      "1000/1000 [==============================] - 0s 451us/step - loss: 9.7263e-05 - val_loss: 7.6990e-04\n",
      "Epoch 260/300\n",
      "1000/1000 [==============================] - 0s 452us/step - loss: 9.7342e-05 - val_loss: 7.7059e-04\n",
      "Epoch 261/300\n",
      "1000/1000 [==============================] - 0s 449us/step - loss: 9.7457e-05 - val_loss: 7.6983e-04\n",
      "Epoch 262/300\n",
      "1000/1000 [==============================] - 0s 460us/step - loss: 9.7675e-05 - val_loss: 7.6808e-04\n",
      "Epoch 263/300\n",
      "1000/1000 [==============================] - 0s 455us/step - loss: 9.7950e-05 - val_loss: 7.6629e-04\n",
      "Epoch 264/300\n",
      "1000/1000 [==============================] - 0s 462us/step - loss: 9.8225e-05 - val_loss: 7.6469e-04\n",
      "Epoch 265/300\n",
      "1000/1000 [==============================] - 0s 460us/step - loss: 9.8502e-05 - val_loss: 7.6313e-04\n",
      "Epoch 266/300\n",
      "1000/1000 [==============================] - 0s 460us/step - loss: 9.8805e-05 - val_loss: 7.6140e-04\n",
      "Epoch 267/300\n",
      "1000/1000 [==============================] - 0s 459us/step - loss: 9.9147e-05 - val_loss: 7.5949e-04\n",
      "Epoch 268/300\n",
      "1000/1000 [==============================] - 0s 462us/step - loss: 9.9523e-05 - val_loss: 7.5747e-04\n",
      "Epoch 269/300\n",
      "1000/1000 [==============================] - 0s 463us/step - loss: 9.9926e-05 - val_loss: 7.5542e-04\n",
      "Epoch 270/300\n",
      "1000/1000 [==============================] - 0s 464us/step - loss: 1.0035e-04 - val_loss: 7.5336e-04\n",
      "Epoch 271/300\n",
      "1000/1000 [==============================] - 0s 464us/step - loss: 1.0080e-04 - val_loss: 7.5131e-04\n",
      "Epoch 272/300\n",
      "1000/1000 [==============================] - 0s 459us/step - loss: 1.0128e-04 - val_loss: 7.4927e-04\n",
      "Epoch 273/300\n",
      "1000/1000 [==============================] - 0s 451us/step - loss: 1.0179e-04 - val_loss: 7.4725e-04\n",
      "Epoch 274/300\n",
      "1000/1000 [==============================] - 0s 452us/step - loss: 1.0233e-04 - val_loss: 7.4528e-04\n",
      "Epoch 275/300\n",
      "1000/1000 [==============================] - 0s 461us/step - loss: 1.0289e-04 - val_loss: 7.4337e-04\n",
      "Epoch 276/300\n",
      "1000/1000 [==============================] - 0s 452us/step - loss: 1.0348e-04 - val_loss: 7.4154e-04\n",
      "Epoch 277/300\n",
      "1000/1000 [==============================] - 0s 451us/step - loss: 1.0409e-04 - val_loss: 7.3981e-04\n",
      "Epoch 278/300\n",
      "1000/1000 [==============================] - 0s 460us/step - loss: 1.0471e-04 - val_loss: 7.3817e-04\n",
      "Epoch 279/300\n",
      "1000/1000 [==============================] - 0s 468us/step - loss: 1.0535e-04 - val_loss: 7.3664e-04\n",
      "Epoch 280/300\n",
      "1000/1000 [==============================] - 0s 470us/step - loss: 1.0599e-04 - val_loss: 7.3519e-04\n",
      "Epoch 281/300\n",
      "1000/1000 [==============================] - 0s 456us/step - loss: 1.0664e-04 - val_loss: 7.3383e-04\n",
      "Epoch 282/300\n",
      "1000/1000 [==============================] - 0s 456us/step - loss: 1.0728e-04 - val_loss: 7.3255e-04\n",
      "Epoch 283/300\n",
      "1000/1000 [==============================] - 0s 459us/step - loss: 1.0792e-04 - val_loss: 7.3131e-04\n",
      "Epoch 284/300\n",
      "1000/1000 [==============================] - 0s 452us/step - loss: 1.0853e-04 - val_loss: 7.3011e-04\n",
      "Epoch 285/300\n",
      "1000/1000 [==============================] - 0s 453us/step - loss: 1.0912e-04 - val_loss: 7.2890e-04\n",
      "Epoch 286/300\n",
      "1000/1000 [==============================] - 0s 461us/step - loss: 1.0968e-04 - val_loss: 7.2767e-04\n",
      "Epoch 287/300\n",
      "1000/1000 [==============================] - 0s 466us/step - loss: 1.1020e-04 - val_loss: 7.2639e-04\n",
      "Epoch 288/300\n",
      "1000/1000 [==============================] - 0s 461us/step - loss: 1.1068e-04 - val_loss: 7.2504e-04\n"
     ]
    },
    {
     "name": "stdout",
     "output_type": "stream",
     "text": [
      "Epoch 289/300\n",
      "1000/1000 [==============================] - 0s 464us/step - loss: 1.1111e-04 - val_loss: 7.2359e-04\n",
      "Epoch 290/300\n",
      "1000/1000 [==============================] - 0s 456us/step - loss: 1.1150e-04 - val_loss: 7.2202e-04\n",
      "Epoch 291/300\n",
      "1000/1000 [==============================] - 0s 454us/step - loss: 1.1183e-04 - val_loss: 7.2035e-04\n",
      "Epoch 292/300\n",
      "1000/1000 [==============================] - 0s 463us/step - loss: 1.1212e-04 - val_loss: 7.1856e-04\n",
      "Epoch 293/300\n",
      "1000/1000 [==============================] - 0s 458us/step - loss: 1.1236e-04 - val_loss: 7.1666e-04\n",
      "Epoch 294/300\n",
      "1000/1000 [==============================] - 0s 453us/step - loss: 1.1256e-04 - val_loss: 7.1468e-04\n",
      "Epoch 295/300\n",
      "1000/1000 [==============================] - 0s 455us/step - loss: 1.1272e-04 - val_loss: 7.1261e-04\n",
      "Epoch 296/300\n",
      "1000/1000 [==============================] - 0s 451us/step - loss: 1.1284e-04 - val_loss: 7.1050e-04\n",
      "Epoch 297/300\n",
      "1000/1000 [==============================] - 0s 458us/step - loss: 1.1294e-04 - val_loss: 7.0836e-04\n",
      "Epoch 298/300\n",
      "1000/1000 [==============================] - 0s 457us/step - loss: 1.1300e-04 - val_loss: 7.0621e-04\n",
      "Epoch 299/300\n",
      "1000/1000 [==============================] - 0s 456us/step - loss: 1.1305e-04 - val_loss: 7.0407e-04\n",
      "Epoch 300/300\n",
      "1000/1000 [==============================] - 0s 452us/step - loss: 1.1307e-04 - val_loss: 7.0196e-04\n"
     ]
    }
   ],
   "source": [
    "\n",
    "model = tf.keras.Sequential()\n",
    "model.add(tf.keras.layers.LSTM(256,input_shape=(7,3)))\n",
    "model.add(tf.keras.layers.Dense(1))\n",
    "model.compile(optimizer='adam',loss='mse')\n",
    "#Reshape data for (Sample,Timestep,Features) \n",
    "X_train = X_train.reshape((X_train.shape[0],X_train.shape[1],3))\n",
    "X_test = X_test.reshape((X_test.shape[0],X_test.shape[1],3))\n",
    "#Fit model with history to check for overfitting\n",
    "history = model.fit(X_train,y_train,epochs=300,validation_data=(X_test,y_test),shuffle=False)"
   ]
  },
  {
   "cell_type": "code",
   "execution_count": 13,
   "metadata": {},
   "outputs": [
    {
     "data": {
      "text/plain": [
       "[<matplotlib.lines.Line2D at 0x10e8c0710>]"
      ]
     },
     "execution_count": 13,
     "metadata": {},
     "output_type": "execute_result"
    },
    {
     "data": {
      "image/png": "[encoded data removed]",
      "text/plain": [
       "<Figure size 432x288 with 1 Axes>"
      ]
     },
     "metadata": {
      "needs_background": "light"
     },
     "output_type": "display_data"
    }
   ],
   "source": [
    "plt.plot(history.history['loss'])\n",
    "plt.plot(history.history['val_loss'])"
   ]
  },
  {
   "cell_type": "code",
   "execution_count": 14,
   "metadata": {},
   "outputs": [
    {
     "data": {
      "text/plain": [
       "array([[0.46959459, 0.47412787, 0.47781809],\n",
       "       [0.46577002, 0.46725457, 0.46336961],\n",
       "       [0.46800102, 0.47043185, 0.4655337 ],\n",
       "       [0.46169046, 0.46556867, 0.45900961],\n",
       "       [0.46717236, 0.46751394, 0.46235122],\n",
       "       [0.46755482, 0.46783815, 0.46807969],\n",
       "       [0.47176186, 0.47596875, 0.46935268]])"
      ]
     },
     "execution_count": 14,
     "metadata": {},
     "output_type": "execute_result"
    }
   ],
   "source": [
    "X_test[0]"
   ]
  },
  {
   "cell_type": "code",
   "execution_count": 20,
   "metadata": {},
   "outputs": [
    {
     "data": {
      "text/plain": [
       "(251, 1)"
      ]
     },
     "execution_count": 20,
     "metadata": {},
     "output_type": "execute_result"
    }
   ],
   "source": [
    "y_test.reshape(-1,1).shape"
   ]
  },
  {
   "cell_type": "code",
   "execution_count": 28,
   "metadata": {},
   "outputs": [],
   "source": [
    "Xt = model.predict(X_test)"
   ]
  },
  {
   "cell_type": "code",
   "execution_count": 29,
   "metadata": {},
   "outputs": [
    {
     "ename": "ValueError",
     "evalue": "non-broadcastable output operand with shape (251,1) doesn't match the broadcast shape (251,3)",
     "output_type": "error",
     "traceback": [
      "\u001b[0;31m---------------------------------------------------------------------------\u001b[0m",
      "\u001b[0;31mValueError\u001b[0m                                Traceback (most recent call last)",
      "\u001b[0;32m<ipython-input-29-efbdc70ecbc2>\u001b[0m in \u001b[0;36m<module>\u001b[0;34m()\u001b[0m\n\u001b[0;32m----> 1\u001b[0;31m \u001b[0mplt\u001b[0m\u001b[0;34m.\u001b[0m\u001b[0mplot\u001b[0m\u001b[0;34m(\u001b[0m\u001b[0mscl\u001b[0m\u001b[0;34m.\u001b[0m\u001b[0minverse_transform\u001b[0m\u001b[0;34m(\u001b[0m\u001b[0my_test\u001b[0m\u001b[0;34m.\u001b[0m\u001b[0mreshape\u001b[0m\u001b[0;34m(\u001b[0m\u001b[0;34m-\u001b[0m\u001b[0;36m1\u001b[0m\u001b[0;34m,\u001b[0m\u001b[0;36m1\u001b[0m\u001b[0;34m)\u001b[0m\u001b[0;34m)\u001b[0m\u001b[0;34m)\u001b[0m\u001b[0;34m\u001b[0m\u001b[0m\n\u001b[0m",
      "\u001b[0;32m~/.pyenv/versions/3.6.3/envs/tensorflow/lib/python3.6/site-packages/sklearn/preprocessing/data.py\u001b[0m in \u001b[0;36minverse_transform\u001b[0;34m(self, X)\u001b[0m\n\u001b[1;32m    402\u001b[0m                         force_all_finite=\"allow-nan\")\n\u001b[1;32m    403\u001b[0m \u001b[0;34m\u001b[0m\u001b[0m\n\u001b[0;32m--> 404\u001b[0;31m         \u001b[0mX\u001b[0m \u001b[0;34m-=\u001b[0m \u001b[0mself\u001b[0m\u001b[0;34m.\u001b[0m\u001b[0mmin_\u001b[0m\u001b[0;34m\u001b[0m\u001b[0m\n\u001b[0m\u001b[1;32m    405\u001b[0m         \u001b[0mX\u001b[0m \u001b[0;34m/=\u001b[0m \u001b[0mself\u001b[0m\u001b[0;34m.\u001b[0m\u001b[0mscale_\u001b[0m\u001b[0;34m\u001b[0m\u001b[0m\n\u001b[1;32m    406\u001b[0m         \u001b[0;32mreturn\u001b[0m \u001b[0mX\u001b[0m\u001b[0;34m\u001b[0m\u001b[0m\n",
      "\u001b[0;31mValueError\u001b[0m: non-broadcastable output operand with shape (251,1) doesn't match the broadcast shape (251,3)"
     ]
    }
   ],
   "source": [
    "plt.plot(scl.inverse_transform(y_test.reshape(-1,1)))\n"
   ]
  },
  {
   "cell_type": "code",
   "execution_count": null,
   "metadata": {},
   "outputs": [],
   "source": [
    "plt.plot(scl.inverse_transform(Xt))"
   ]
  },
  {
   "cell_type": "code",
   "execution_count": 147,
   "metadata": {},
   "outputs": [
    {
     "name": "stdout",
     "output_type": "stream",
     "text": [
      "predicted:[[237.01706]], actual:[[231.44]]\n"
     ]
    }
   ],
   "source": [
    "act = []\n",
    "pred = []\n",
    "#for i in range(250):\n",
    "i=249\n",
    "Xt = model.predict(X_test[i].reshape(1,7,3))\n",
    "print('predicted:{0}, actual:{1}'.format(scl.inverse_transform(Xt),scl.inverse_transform(y_test[i].reshape(-1,1))))\n",
    "pred.append(scl.inverse_transform(Xt))\n",
    "act.append(scl.inverse_transform(y_test[i].reshape(-1,1)))"
   ]
  },
  {
   "cell_type": "code",
   "execution_count": 148,
   "metadata": {},
   "outputs": [],
   "source": [
    "result_df = pd.DataFrame({'pred':list(np.reshape(pred, (-1))),'act':list(np.reshape(act, (-1)))})"
   ]
  },
  {
   "cell_type": "code",
   "execution_count": 149,
   "metadata": {},
   "outputs": [
    {
     "data": {
      "text/plain": [
       "[<matplotlib.lines.Line2D at 0x11abe7a20>]"
      ]
     },
     "execution_count": 149,
     "metadata": {},
     "output_type": "execute_result"
    },
    {
     "data": {
      "image/png": "[encoded data removed]",
      "text/plain": [
       "<Figure size 432x288 with 1 Axes>"
      ]
     },
     "metadata": {
      "needs_background": "light"
     },
     "output_type": "display_data"
    }
   ],
   "source": [
    "Xt = model.predict(X_test)\n",
    "plt.plot(scl.inverse_transform(y_test.reshape(-1,1)))\n",
    "plt.plot(scl.inverse_transform(Xt))"
   ]
  },
  {
   "cell_type": "code",
   "execution_count": 150,
   "metadata": {},
   "outputs": [
    {
     "data": {
      "text/plain": [
       "array([[0.96003315, 0.94248476, 0.96836611],\n",
       "       [1.        , 0.98327065, 1.        ],\n",
       "       [0.98329934, 1.        , 0.99726306],\n",
       "       [0.95480622, 0.97043185, 0.97403093],\n",
       "       [0.94817695, 0.95869537, 0.95773662],\n",
       "       [0.93185875, 0.93651602, 0.93838712],\n",
       "       [0.91420194, 0.92808974, 0.92985806]])"
      ]
     },
     "execution_count": 150,
     "metadata": {},
     "output_type": "execute_result"
    }
   ],
   "source": [
    "X_test[249]"
   ]
  },
  {
   "cell_type": "code",
   "execution_count": 151,
   "metadata": {},
   "outputs": [
    {
     "data": {
      "text/plain": [
       "array([[0.93026517, 0.93697316, 0.92852142],\n",
       "       [0.96003315, 0.94248476, 0.96836611],\n",
       "       [1.        , 0.98327065, 1.        ],\n",
       "       [0.98329934, 1.        , 0.99726306],\n",
       "       [0.95480622, 0.97043185, 0.97403093],\n",
       "       [0.94817695, 0.95869537, 0.95773662],\n",
       "       [0.93185875, 0.93651602, 0.93838712]])"
      ]
     },
     "execution_count": 151,
     "metadata": {},
     "output_type": "execute_result"
    }
   ],
   "source": [
    "X_test[248]"
   ]
  },
  {
   "cell_type": "code",
   "execution_count": null,
   "metadata": {},
   "outputs": [],
   "source": []
  }
 ],
 "metadata": {
  "kernelspec": {
   "display_name": "Python 3",
   "language": "python",
   "name": "python3"
  },
  "language_info": {
   "codemirror_mode": {
    "name": "ipython",
    "version": 3
   },
   "file_extension": ".py",
   "mimetype": "text/x-python",
   "name": "python",
   "nbconvert_exporter": "python",
   "pygments_lexer": "ipython3",
   "version": "3.6.3"
  }
 },
 "nbformat": 4,
 "nbformat_minor": 2
}
